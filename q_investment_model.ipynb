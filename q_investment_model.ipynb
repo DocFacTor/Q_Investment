{
 "cells": [
  {
   "cell_type": "markdown",
   "metadata": {},
   "source": [
    "# Numerical Solution of the Abel/Hayashi \"q\" investment model\n",
    "\n",
    "## [Mateo Velásquez-Giraldo](https://github.com/Mv77)"
   ]
  },
  {
   "cell_type": "code",
   "execution_count": 1,
   "metadata": {
    "code_folding": []
   },
   "outputs": [],
   "source": [
    "# Preamble\n",
    "import numpy as np\n",
    "import matplotlib.pyplot as plt\n",
    "\n",
    "from scipy import interpolate\n",
    "from scipy import optimize"
   ]
  },
  {
   "cell_type": "code",
   "execution_count": 2,
   "metadata": {
    "code_folding": [
     7,
     31,
     34,
     37,
     41,
     45,
     73,
     109
    ],
    "lines_to_next_cell": 2
   },
   "outputs": [],
   "source": [
    "# Class implementation\n",
    "\n",
    "class Qmod:\n",
    "    \"\"\"\n",
    "    A class representing Q investment model.\n",
    "    \"\"\"\n",
    "    \n",
    "    def __init__(self,beta,tau,alpha,omega,zeta,delta):\n",
    "        \"\"\"\n",
    "        Inputs:\n",
    "        - Beta:\n",
    "        - Tau:\n",
    "        - Alpha:\n",
    "        - Omega:\n",
    "        - Zeta:\n",
    "        - Delta\n",
    "        \"\"\"\n",
    "        # Assign parameter values\n",
    "        self.beta = beta\n",
    "        self.tau = tau\n",
    "        self.alpha = alpha\n",
    "        self.omega = omega\n",
    "        self.zeta = zeta\n",
    "        self.delta = delta\n",
    "        \n",
    "        # Create empty consumption function\n",
    "        self.k1Func = None\n",
    "        \n",
    "        # Steady state capital\n",
    "        self.kss = ((1-(1-self.delta)*self.beta)/((1-self.tau)*self.alpha))**(1/(self.alpha-1))\n",
    "        \n",
    "    def f_k(self,k):\n",
    "        return(self.alpha*k**(self.alpha-1))\n",
    "    \n",
    "    def j(self,i,k):\n",
    "        return(k/2*((i-self.delta*k)/k)**2*self.omega)\n",
    "    \n",
    "    def j_i(self,i,k):\n",
    "        iota = i/k - self.delta\n",
    "        return(iota*self.omega)\n",
    "    \n",
    "    def j_k(self,i,k):\n",
    "        iota = i/k - self.delta\n",
    "        return(-(iota**2/2+iota*self.delta)*self.omega)\n",
    "        \n",
    "    def eulerError(self,k0,k1,k2):\n",
    "        i0 = k1 - (1-self.delta)*k0\n",
    "        i1 = k2 - (1-self.delta)*k1\n",
    "        error = (1+self.j_i(i0,k0)) -\\\n",
    "        ((1-self.tau)*self.f_k(k1) +\\\n",
    "         ((1-self.delta) + (1-self.delta)*self.j_i(i1,k1) - self.j_k(i1,k1))*self.beta)\n",
    "        \n",
    "        return(error)\n",
    "    \n",
    "    def k2(self,k0,k1):\n",
    "        \n",
    "        sol = optimize.root_scalar(lambda x: self.eulerError(k0,k1,x), x0=k0, x1=self.kss).root\n",
    "        \n",
    "        return(sol)\n",
    "    \n",
    "    def shoot(self,k0,k1,t):\n",
    "        k = np.zeros(t)\n",
    "        k[0] = k0\n",
    "        k[1] = k1\n",
    "        for i in range(2,t):\n",
    "            \n",
    "            k[i] = self.k2(k[i-2],k[i-1])\n",
    "            if k[i]<0 or (abs(k[i]-self.kss) > 2*abs(k0-self.kss)):\n",
    "                k[i:] = k[i]\n",
    "                return(k)\n",
    "            \n",
    "        return(k)\n",
    "    \n",
    "    def find_k1(self,k0,T=20,tol = 10**(-4),maxiter = 100):\n",
    "            \n",
    "        top = max(self.kss,k0)\n",
    "        bot = min(self.kss,k0)\n",
    "        \n",
    "        for k in range(maxiter):\n",
    "            \n",
    "            init = (top+bot)/2\n",
    "            path = self.shoot(k0,init,T)\n",
    "    \n",
    "            k_f = path[-1]\n",
    "            if np.isnan(k_f):\n",
    "                bot = init\n",
    "            else:\n",
    "                if abs(k_f - self.kss)<tol:\n",
    "                    return(init)\n",
    "                else:\n",
    "                    if k_f >= self.kss:\n",
    "                        top = init\n",
    "                    else:\n",
    "                        bot = init\n",
    "            \n",
    "        return(init)\n",
    "    \n",
    "    def solve(self,k_min=10**(-3), n_points = 50):\n",
    "        \n",
    "        k_max = 4*self.kss\n",
    "        k0 = np.linspace(k_min,k_max,n_points)\n",
    "        k1 = np.zeros(len(k0))\n",
    "        \n",
    "        for i in range(len(k0)):\n",
    "            \n",
    "            k1[i] = self.find_k1(k0[i])\n",
    "        \n",
    "        self.k1Func = interpolate.interp1d(k0,k1)\n",
    "        \n",
    "    def simulate(self,k0,t):\n",
    "        k = np.zeros(t)\n",
    "        k[0]=k0\n",
    "        for i in range(1,t):\n",
    "            k[i] = self.k1Func(k[i-1])\n",
    "        return(k)"
   ]
  },
  {
   "cell_type": "markdown",
   "metadata": {},
   "source": [
    "## _Examples_"
   ]
  },
  {
   "cell_type": "code",
   "execution_count": 3,
   "metadata": {
    "scrolled": true
   },
   "outputs": [
    {
     "data": {
      "text/plain": [
       "Text(0, 0.5, '$k_{t+1}$')"
      ]
     },
     "execution_count": 3,
     "metadata": {},
     "output_type": "execute_result"
    },
    {
     "data": {
      "image/png": "[encoded data removed]",
      "text/plain": [
       "<Figure size 432x288 with 1 Axes>"
      ]
     },
     "metadata": {
      "needs_background": "light"
     },
     "output_type": "display_data"
    }
   ],
   "source": [
    "# Create model object\n",
    "Qexample = Qmod(beta = 0.99,tau = 0, alpha = 0.33, omega =  0.5, zeta =  0, delta = 0.05)\n",
    "# Solve to find the policy rule (k[t+1] in terms of k[t])\n",
    "Qexample.solve()\n",
    "\n",
    "# Plot policy rule\n",
    "k = np.linspace(1,20,20)\n",
    "plt.plot(k,[Qexample.k1Func(x) for x in k])\n",
    "plt.title('Policy Rule')\n",
    "plt.xlabel('$k_t$')\n",
    "plt.ylabel('$k_{t+1}$')"
   ]
  },
  {
   "cell_type": "code",
   "execution_count": 4,
   "metadata": {},
   "outputs": [
    {
     "data": {
      "text/plain": [
       "Text(0, 0.5, 'k(t+1)')"
      ]
     },
     "execution_count": 4,
     "metadata": {},
     "output_type": "execute_result"
    },
    {
     "data": {
      "image/png": "[encoded data removed]",
      "text/plain": [
       "<Figure size 432x288 with 1 Axes>"
      ]
     },
     "metadata": {
      "needs_background": "light"
     },
     "output_type": "display_data"
    }
   ],
   "source": [
    "# Plot policy rule\n",
    "k = np.linspace(1,20,20)\n",
    "plt.plot(k,[Qexample.k1Func(x) for x in k])\n",
    "plt.title('Policy Rule')\n",
    "plt.xlabel('k(t)')\n",
    "plt.ylabel('k(t+1)')"
   ]
  },
  {
   "cell_type": "code",
   "execution_count": 5,
   "metadata": {},
   "outputs": [
    {
     "data": {
      "image/png": "[encoded data removed]",
      "text/plain": [
       "<Figure size 432x288 with 1 Axes>"
      ]
     },
     "metadata": {
      "needs_background": "light"
     },
     "output_type": "display_data"
    }
   ],
   "source": [
    "# Find capital dynamics from a given starting capital\n",
    "k0 = 23\n",
    "t = 50\n",
    "k = Qexample.simulate(k0,t)\n",
    "\n",
    "# Plot\n",
    "plt.figure()\n",
    "plt.plot(k)\n",
    "plt.axhline(y = Qexample.kss,linestyle = '--',color = 'k', label = '$\\\\bar{k}$')\n",
    "plt.title('Capital')\n",
    "plt.xlabel('Time')\n",
    "plt.legend()\n",
    "plt.show()"
   ]
  }
 ],
 "metadata": {
  "jupytext": {
   "formats": "ipynb,py:percent",
   "text_representation": {
    "extension": ".py",
    "format_name": "percent",
    "format_version": "1.1",
    "jupytext_version": "0.8.5"
   }
  },
  "kernelspec": {
   "display_name": "Python 3",
   "language": "python",
   "name": "python3"
  },
  "language_info": {
   "codemirror_mode": {
    "name": "ipython",
    "version": 3
   },
   "file_extension": ".py",
   "mimetype": "text/x-python",
   "name": "python",
   "nbconvert_exporter": "python",
   "pygments_lexer": "ipython3",
   "version": "3.7.1"
  }
 },
 "nbformat": 4,
 "nbformat_minor": 2
}
