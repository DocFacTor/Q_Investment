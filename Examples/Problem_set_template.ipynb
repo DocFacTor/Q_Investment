{
 "cells": [
  {
   "cell_type": "markdown",
   "metadata": {},
   "source": [
    "# YOUR NAME\n",
    "\n",
    "This notebook is a template showing you how to use some tools that will be useful for problem set 5.\n",
    "\n",
    "The tools are:\n",
    "1. Qmod: an implementation of the q-Model as a class in python. This is used to obtain phase diagrams.\n",
    "2. Dolo: a general purpose tool used to represent and solve economic models. This is used to compute optimal responses.\n",
    "\n",
    "The use of both tools will make us have to handle two representations of our problems, one as a Qmod object, and one as a Dolo model.\n",
    "\n",
    "Start by loading the tools we will be using."
   ]
  },
  {
   "cell_type": "code",
   "execution_count": 1,
   "metadata": {},
   "outputs": [
    {
     "name": "stdout",
     "output_type": "stream",
     "text": [
      "Collecting dolo==0.4.9.12\n",
      "  Using cached dolo-0.4.9.12-py3-none-any.whl (119 kB)\n",
      "Collecting ruamel.yaml<0.17.0,>=0.16.10\n",
      "  Downloading ruamel.yaml-0.16.13-py2.py3-none-any.whl (111 kB)\n",
      "Requirement already satisfied: multipledispatch<0.7.0,>=0.6.0 in c:\\users\\mateo\\anaconda3\\lib\\site-packages (from dolo==0.4.9.12) (0.6.0)\n",
      "Requirement already satisfied: numpy<2.0.0,>=1.16.0 in c:\\users\\mateo\\anaconda3\\lib\\site-packages (from dolo==0.4.9.12) (1.20.1)\n",
      "Requirement already satisfied: xarray<0.16.0,>=0.15.1 in c:\\users\\mateo\\anaconda3\\lib\\site-packages (from dolo==0.4.9.12) (0.15.1)\n",
      "Requirement already satisfied: matplotlib<4.0.0,>=3.0.1 in c:\\users\\mateo\\anaconda3\\lib\\site-packages (from dolo==0.4.9.12) (3.3.4)\n",
      "Requirement already satisfied: interpolation<3.0.0,>=2.1.6 in c:\\users\\mateo\\anaconda3\\lib\\site-packages (from dolo==0.4.9.12) (2.2.1)\n",
      "Requirement already satisfied: ipython<8.0.0,>=7.13.0 in c:\\users\\mateo\\anaconda3\\lib\\site-packages (from dolo==0.4.9.12) (7.22.0)\n",
      "Requirement already satisfied: pandas<2.0.0,>=1.0.3 in c:\\users\\mateo\\anaconda3\\lib\\site-packages (from dolo==0.4.9.12) (1.2.4)\n",
      "Collecting dolang<0.0.11,>=0.0.10\n",
      "  Using cached dolang-0.0.10-py3-none-any.whl (38 kB)\n",
      "Requirement already satisfied: quantecon<0.5.0,>=0.4.7 in c:\\users\\mateo\\anaconda3\\lib\\site-packages (from dolo==0.4.9.12) (0.4.8)\n",
      "Requirement already satisfied: pyyaml<6.0.0,>=5.3.1 in c:\\users\\mateo\\anaconda3\\lib\\site-packages (from dolo==0.4.9.12) (5.4.1)\n",
      "Requirement already satisfied: scipy<2.0.0,>=1.4.1 in c:\\users\\mateo\\anaconda3\\lib\\site-packages (from dolo==0.4.9.12) (1.6.2)\n",
      "Requirement already satisfied: sympy<2.0.0,>=1.5.1 in c:\\users\\mateo\\anaconda3\\lib\\site-packages (from dolang<0.0.11,>=0.0.10->dolo==0.4.9.12) (1.8)\n",
      "Requirement already satisfied: lark-parser<0.10.0,>=0.9.0 in c:\\users\\mateo\\anaconda3\\lib\\site-packages (from dolang<0.0.11,>=0.0.10->dolo==0.4.9.12) (0.9.0)\n",
      "Requirement already satisfied: numba>=0.50 in c:\\users\\mateo\\anaconda3\\lib\\site-packages (from dolang<0.0.11,>=0.0.10->dolo==0.4.9.12) (0.53.1)\n",
      "Requirement already satisfied: tempita>=0.5.2 in c:\\users\\mateo\\anaconda3\\lib\\site-packages (from interpolation<3.0.0,>=2.1.6->dolo==0.4.9.12) (0.5.2)\n",
      "Requirement already satisfied: decorator in c:\\users\\mateo\\anaconda3\\lib\\site-packages (from ipython<8.0.0,>=7.13.0->dolo==0.4.9.12) (5.0.6)\n",
      "Requirement already satisfied: pygments in c:\\users\\mateo\\anaconda3\\lib\\site-packages (from ipython<8.0.0,>=7.13.0->dolo==0.4.9.12) (2.8.1)\n",
      "Requirement already satisfied: setuptools>=18.5 in c:\\users\\mateo\\anaconda3\\lib\\site-packages (from ipython<8.0.0,>=7.13.0->dolo==0.4.9.12) (52.0.0.post20210125)\n",
      "Requirement already satisfied: prompt-toolkit!=3.0.0,!=3.0.1,<3.1.0,>=2.0.0 in c:\\users\\mateo\\anaconda3\\lib\\site-packages (from ipython<8.0.0,>=7.13.0->dolo==0.4.9.12) (3.0.17)\n",
      "Requirement already satisfied: colorama in c:\\users\\mateo\\anaconda3\\lib\\site-packages (from ipython<8.0.0,>=7.13.0->dolo==0.4.9.12) (0.4.4)\n",
      "Requirement already satisfied: jedi>=0.16 in c:\\users\\mateo\\anaconda3\\lib\\site-packages (from ipython<8.0.0,>=7.13.0->dolo==0.4.9.12) (0.17.2)\n",
      "Requirement already satisfied: backcall in c:\\users\\mateo\\anaconda3\\lib\\site-packages (from ipython<8.0.0,>=7.13.0->dolo==0.4.9.12) (0.2.0)\n",
      "Requirement already satisfied: pickleshare in c:\\users\\mateo\\anaconda3\\lib\\site-packages (from ipython<8.0.0,>=7.13.0->dolo==0.4.9.12) (0.7.5)\n",
      "Requirement already satisfied: traitlets>=4.2 in c:\\users\\mateo\\anaconda3\\lib\\site-packages (from ipython<8.0.0,>=7.13.0->dolo==0.4.9.12) (5.0.5)\n",
      "Requirement already satisfied: parso<0.8.0,>=0.7.0 in c:\\users\\mateo\\anaconda3\\lib\\site-packages (from jedi>=0.16->ipython<8.0.0,>=7.13.0->dolo==0.4.9.12) (0.7.0)\n",
      "Requirement already satisfied: pyparsing!=2.0.4,!=2.1.2,!=2.1.6,>=2.0.3 in c:\\users\\mateo\\anaconda3\\lib\\site-packages (from matplotlib<4.0.0,>=3.0.1->dolo==0.4.9.12) (2.4.7)\n",
      "Requirement already satisfied: pillow>=6.2.0 in c:\\users\\mateo\\anaconda3\\lib\\site-packages (from matplotlib<4.0.0,>=3.0.1->dolo==0.4.9.12) (8.2.0)\n",
      "Requirement already satisfied: kiwisolver>=1.0.1 in c:\\users\\mateo\\anaconda3\\lib\\site-packages (from matplotlib<4.0.0,>=3.0.1->dolo==0.4.9.12) (1.3.1)\n",
      "Requirement already satisfied: cycler>=0.10 in c:\\users\\mateo\\anaconda3\\lib\\site-packages (from matplotlib<4.0.0,>=3.0.1->dolo==0.4.9.12) (0.10.0)\n",
      "Requirement already satisfied: python-dateutil>=2.1 in c:\\users\\mateo\\anaconda3\\lib\\site-packages (from matplotlib<4.0.0,>=3.0.1->dolo==0.4.9.12) (2.8.1)\n",
      "Requirement already satisfied: six in c:\\users\\mateo\\anaconda3\\lib\\site-packages (from cycler>=0.10->matplotlib<4.0.0,>=3.0.1->dolo==0.4.9.12) (1.15.0)\n",
      "Requirement already satisfied: llvmlite<0.37,>=0.36.0rc1 in c:\\users\\mateo\\anaconda3\\lib\\site-packages (from numba>=0.50->dolang<0.0.11,>=0.0.10->dolo==0.4.9.12) (0.36.0)\n",
      "Requirement already satisfied: pytz>=2017.3 in c:\\users\\mateo\\anaconda3\\lib\\site-packages (from pandas<2.0.0,>=1.0.3->dolo==0.4.9.12) (2021.1)\n",
      "Requirement already satisfied: wcwidth in c:\\users\\mateo\\anaconda3\\lib\\site-packages (from prompt-toolkit!=3.0.0,!=3.0.1,<3.1.0,>=2.0.0->ipython<8.0.0,>=7.13.0->dolo==0.4.9.12) (0.2.5)\n",
      "Requirement already satisfied: requests in c:\\users\\mateo\\anaconda3\\lib\\site-packages (from quantecon<0.5.0,>=0.4.7->dolo==0.4.9.12) (2.25.1)\n",
      "Collecting ruamel.yaml.clib>=0.1.2\n",
      "  Downloading ruamel.yaml.clib-0.2.7-cp38-cp38-win_amd64.whl (118 kB)\n",
      "Requirement already satisfied: mpmath>=0.19 in c:\\users\\mateo\\anaconda3\\lib\\site-packages (from sympy<2.0.0,>=1.5.1->dolang<0.0.11,>=0.0.10->dolo==0.4.9.12) (1.2.1)\n",
      "Requirement already satisfied: ipython-genutils in c:\\users\\mateo\\anaconda3\\lib\\site-packages (from traitlets>=4.2->ipython<8.0.0,>=7.13.0->dolo==0.4.9.12) (0.2.0)\n",
      "Requirement already satisfied: certifi>=2017.4.17 in c:\\users\\mateo\\anaconda3\\lib\\site-packages (from requests->quantecon<0.5.0,>=0.4.7->dolo==0.4.9.12) (2020.12.5)\n",
      "Requirement already satisfied: chardet<5,>=3.0.2 in c:\\users\\mateo\\anaconda3\\lib\\site-packages (from requests->quantecon<0.5.0,>=0.4.7->dolo==0.4.9.12) (4.0.0)\n",
      "Requirement already satisfied: idna<3,>=2.5 in c:\\users\\mateo\\anaconda3\\lib\\site-packages (from requests->quantecon<0.5.0,>=0.4.7->dolo==0.4.9.12) (2.10)\n",
      "Requirement already satisfied: urllib3<1.27,>=1.21.1 in c:\\users\\mateo\\anaconda3\\lib\\site-packages (from requests->quantecon<0.5.0,>=0.4.7->dolo==0.4.9.12) (1.26.4)\n",
      "Installing collected packages: ruamel.yaml.clib, ruamel.yaml, dolang, dolo\n",
      "  Attempting uninstall: dolang\n",
      "    Found existing installation: dolang 0.0.15\n",
      "    Uninstalling dolang-0.0.15:\n",
      "      Successfully uninstalled dolang-0.0.15\n",
      "  Attempting uninstall: dolo\n",
      "    Found existing installation: dolo 0.4.9.15\n",
      "    Uninstalling dolo-0.4.9.15:\n",
      "      Successfully uninstalled dolo-0.4.9.15\n",
      "Successfully installed dolang-0.0.10 dolo-0.4.9.12 ruamel.yaml-0.16.13 ruamel.yaml.clib-0.2.7\n"
     ]
    }
   ],
   "source": [
    "! pip install dolo==0.4.9.12"
   ]
  },
  {
   "cell_type": "code",
   "execution_count": 2,
   "metadata": {
    "code_folding": [],
    "lines_to_next_cell": 1
   },
   "outputs": [],
   "source": [
    "# Preamble: import the packages we will be using\n",
    "\n",
    "# Usual packages\n",
    "import numpy as np\n",
    "import matplotlib.pyplot as plt\n",
    "from copy import deepcopy\n",
    "from dolo import *\n",
    "import dolo.algos.perfect_foresight as pf\n",
    "import pandas as pd\n",
    "\n",
    "# Import the Qmod python code from external file\n",
    "\n",
    "# Since the Qmod class is in other folder we need to\n",
    "# change the path.\n",
    "import sys\n",
    "sys.path.append('../')\n",
    "from Qmod.Q_investment import Qmod"
   ]
  },
  {
   "cell_type": "markdown",
   "metadata": {},
   "source": [
    "I then define a function that takes two Qmod objects and plots their phase diagrams in the same figure."
   ]
  },
  {
   "cell_type": "code",
   "execution_count": 3,
   "metadata": {
    "code_folding": [],
    "lines_to_next_cell": 0
   },
   "outputs": [],
   "source": [
    "def phase_diagrams(mod1,mod2,k_min,k_max,npoints = 300):\n",
    "    \"\"\"\n",
    "    Draws the phase diagram of the Qmodel under two different sets of\n",
    "    parameter values in the same figure, and returns it.\n",
    "\n",
    "    Parameters:\n",
    "        - mod1          : Qmod object representing the first set of parameter values.\n",
    "        - mod1          : Qmod object representing the second set of parameter values.\n",
    "        - [k_min,k_max] : limits for the value of capital in the phase diagrams.\n",
    "        - npoints       : number of points in the capital grid to be used for phase\n",
    "                          diagram plots.\n",
    "    \"\"\"\n",
    "\n",
    "    # Create a figure\n",
    "    fig, ax = plt.subplots()\n",
    "\n",
    "    # Plot the loci of the pre and post-change models.\n",
    "    k_range = np.linspace(k_min,k_max,npoints)\n",
    "    mods = [mod1,mod2]\n",
    "    colors = ['r','b']\n",
    "    labels = ['Mod. 1','Mod. 2']\n",
    "    for i in range(2):\n",
    "\n",
    "        # Plot k0 locus\n",
    "        ax.plot(k_range,mods[i].P*np.ones(npoints),\n",
    "                 linestyle = '--', color = colors[i],label = labels[i] + ' loci')\n",
    "        # Plot lambda0 locus\n",
    "        ax.plot(k_range,[mods[i].lambda0locus(x) for x in k_range],\n",
    "                 linestyle = '--', color = colors[i])\n",
    "        # Plot steady state\n",
    "        ax.plot(mods[i].kss,mods[i].P,marker = '*', color = colors[i])\n",
    "        \n",
    "        # Plot stable arm\n",
    "        stab_arm = [mods[i].findLambda(k0 = x, k1 = mods[i].k1Func(x)) for x in k_range]\n",
    "        ax.plot(k_range, stab_arm, linestyle = '-', color = colors[i], label = labels[i] + ' stable arm.')\n",
    "\n",
    "    return(ax)"
   ]
  },
  {
   "cell_type": "markdown",
   "metadata": {},
   "source": [
    "Now I create a base model parametrization."
   ]
  },
  {
   "cell_type": "code",
   "execution_count": 4,
   "metadata": {},
   "outputs": [],
   "source": [
    "# Base parameters\n",
    "\n",
    "# Discount factor and return factor\n",
    "beta = 0.98\n",
    "R = 1/beta\n",
    "\n",
    "# Tax rate\n",
    "tau = 0.05\n",
    "\n",
    "# Share of capital in production\n",
    "alpha = 0.33\n",
    "\n",
    "# Adjustment costs\n",
    "omega = 1\n",
    "\n",
    "# Investment tax credit\n",
    "zeta = 0\n",
    "\n",
    "# Depreciation rate\n",
    "delta = 0.1\n",
    "\n",
    "# Technological factor\n",
    "psi = 1"
   ]
  },
  {
   "cell_type": "markdown",
   "metadata": {},
   "source": [
    "And create the objects representing the model. First in Qmod:"
   ]
  },
  {
   "cell_type": "code",
   "execution_count": 5,
   "metadata": {},
   "outputs": [],
   "source": [
    "## Qmod python class\n",
    "\n",
    "# Create the object.\n",
    "Qmodel = Qmod(beta, tau, alpha, omega, zeta, delta, psi)\n",
    "# Solve to find the steady state and policy rule.\n",
    "Qmodel.solve()"
   ]
  },
  {
   "cell_type": "markdown",
   "metadata": {},
   "source": [
    "Then in Dolo.\n",
    "\n",
    "There is an important difference. The implementation in Dolo treats the interest rate, technological factor, tax rate, and investment tax credit as not parameters but exogenous variables subject to change."
   ]
  },
  {
   "cell_type": "code",
   "execution_count": 6,
   "metadata": {},
   "outputs": [
    {
     "name": "stderr",
     "output_type": "stream",
     "text": [
      "\u001b[33mUserWarning\u001b[0m:C:\\Users\\mateo\\anaconda3\\lib\\site-packages\\dolo\\compiler\\language.py:187\n",
      "    Impossible to evaluate expression\n"
     ]
    }
   ],
   "source": [
    "## Dolo\n",
    "\n",
    "# First import the external file with the model description.\n",
    "QDolo = yaml_import(\"../Dolo/Q_model.yaml\")\n",
    "\n",
    "# Then replace the default parameters with our desired ones.\n",
    "QDolo.set_calibration(alpha = alpha, delta = delta, omega = omega)\n",
    "\n",
    "#############\n",
    "# IMPORTANT #\n",
    "#############\n",
    "\n",
    "# We do not pass R, psi, tau, or itc because they are handled not as parameters\n",
    "# but exogenous variables that can change over time. (see below)"
   ]
  },
  {
   "cell_type": "markdown",
   "metadata": {
    "lines_to_next_cell": 0
   },
   "source": [
    "## Dynamic response example: changes in productivity.\n",
    "\n",
    "I now give an example of how to use Dolo to solve for the optimal behavior of the firm.\n",
    "The basic idea is:\n",
    "1. We will create a path for the exogenous variables of the model.\n",
    "2. Dolo assumes that this path is announced to the firm at the first time period, and it computes the optimal dynamics according to these paths."
   ]
  },
  {
   "cell_type": "code",
   "execution_count": 7,
   "metadata": {},
   "outputs": [],
   "source": [
    "# Set up the basic features of the simulation\n",
    "\n",
    "# Total simulation time\n",
    "T = 100\n",
    "# Initial level of capital\n",
    "k0 = Qmodel.kss"
   ]
  },
  {
   "cell_type": "code",
   "execution_count": 8,
   "metadata": {
    "code_folding": []
   },
   "outputs": [
    {
     "data": {
      "text/html": [
       "<div>\n",
       "<style scoped>\n",
       "    .dataframe tbody tr th:only-of-type {\n",
       "        vertical-align: middle;\n",
       "    }\n",
       "\n",
       "    .dataframe tbody tr th {\n",
       "        vertical-align: top;\n",
       "    }\n",
       "\n",
       "    .dataframe thead th {\n",
       "        text-align: right;\n",
       "    }\n",
       "</style>\n",
       "<table border=\"1\" class=\"dataframe\">\n",
       "  <thead>\n",
       "    <tr style=\"text-align: right;\">\n",
       "      <th></th>\n",
       "      <th>R</th>\n",
       "      <th>tau</th>\n",
       "      <th>itc_1</th>\n",
       "      <th>psi</th>\n",
       "    </tr>\n",
       "  </thead>\n",
       "  <tbody>\n",
       "    <tr>\n",
       "      <th>0</th>\n",
       "      <td>1.020408</td>\n",
       "      <td>0.05</td>\n",
       "      <td>0</td>\n",
       "      <td>1.0</td>\n",
       "    </tr>\n",
       "    <tr>\n",
       "      <th>1</th>\n",
       "      <td>1.020408</td>\n",
       "      <td>0.05</td>\n",
       "      <td>0</td>\n",
       "      <td>1.0</td>\n",
       "    </tr>\n",
       "    <tr>\n",
       "      <th>2</th>\n",
       "      <td>1.020408</td>\n",
       "      <td>0.05</td>\n",
       "      <td>0</td>\n",
       "      <td>1.0</td>\n",
       "    </tr>\n",
       "    <tr>\n",
       "      <th>3</th>\n",
       "      <td>1.020408</td>\n",
       "      <td>0.05</td>\n",
       "      <td>0</td>\n",
       "      <td>1.2</td>\n",
       "    </tr>\n",
       "    <tr>\n",
       "      <th>4</th>\n",
       "      <td>1.020408</td>\n",
       "      <td>0.05</td>\n",
       "      <td>0</td>\n",
       "      <td>1.2</td>\n",
       "    </tr>\n",
       "  </tbody>\n",
       "</table>\n",
       "</div>"
      ],
      "text/plain": [
       "          R   tau  itc_1  psi\n",
       "0  1.020408  0.05      0  1.0\n",
       "1  1.020408  0.05      0  1.0\n",
       "2  1.020408  0.05      0  1.0\n",
       "3  1.020408  0.05      0  1.2\n",
       "4  1.020408  0.05      0  1.2"
      ]
     },
     "execution_count": 8,
     "metadata": {},
     "output_type": "execute_result"
    },
    {
     "data": {
      "image/png": "[encoded data removed]",
      "text/plain": [
       "<Figure size 432x288 with 1 Axes>"
      ]
     },
     "metadata": {
      "needs_background": "light"
     },
     "output_type": "display_data"
    }
   ],
   "source": [
    "# Design the shock:\n",
    "\n",
    "# for this example, I am assuming that productivity increases and then\n",
    "# goes back to the original level.\n",
    "\n",
    "psi_high = 1.2\n",
    "Psi_sequence = np.array([psi]*3+\n",
    "                        [psi_high]*50+\n",
    "                        [psi]*(T-3-50))\n",
    "# Check the pattern of the shock\n",
    "plt.figure()\n",
    "plt.plot(Psi_sequence)\n",
    "plt.ylabel('$\\psi$')\n",
    "\n",
    "# Dolo receives a DataFrame with the full future paths for ALL exogenous\n",
    "# variables. So we create one:\n",
    "Exog = pd.DataFrame({'R':[R]*T,\n",
    "                     'tau':[tau]*T,\n",
    "                     'itc_1':[zeta]*T,\n",
    "                     'psi':Psi_sequence})\n",
    "\n",
    "# Examine the first few entries.\n",
    "Exog.head()\n",
    "# Note all other variables are left constant."
   ]
  },
  {
   "cell_type": "code",
   "execution_count": 9,
   "metadata": {},
   "outputs": [
    {
     "name": "stdout",
     "output_type": "stream",
     "text": [
      "\t> 1 | 0.08584546286337591 | 0\n",
      "\t> 2 | 0.02893974256050258 | 0\n",
      "\t> 3 | 0.005488334980458642 | 0\n",
      "\t> 4 | 0.00026281421294982454 | 0\n",
      "\t> 5 | 6.066196017728842e-07 | 0\n",
      "> System was solved after iteration 5. Residual=6.066196017728842e-07\n"
     ]
    },
    {
     "data": {
      "text/html": [
       "<div>\n",
       "<style scoped>\n",
       "    .dataframe tbody tr th:only-of-type {\n",
       "        vertical-align: middle;\n",
       "    }\n",
       "\n",
       "    .dataframe tbody tr th {\n",
       "        vertical-align: top;\n",
       "    }\n",
       "\n",
       "    .dataframe thead th {\n",
       "        text-align: right;\n",
       "    }\n",
       "</style>\n",
       "<table border=\"1\" class=\"dataframe\">\n",
       "  <thead>\n",
       "    <tr style=\"text-align: right;\">\n",
       "      <th></th>\n",
       "      <th>k</th>\n",
       "      <th>i</th>\n",
       "      <th>y</th>\n",
       "      <th>y_k</th>\n",
       "      <th>beta</th>\n",
       "      <th>j</th>\n",
       "      <th>xi</th>\n",
       "      <th>iota</th>\n",
       "      <th>j_i</th>\n",
       "      <th>j_k</th>\n",
       "      <th>lambda_1</th>\n",
       "      <th>q_1</th>\n",
       "      <th>R</th>\n",
       "      <th>tau</th>\n",
       "      <th>itc_1</th>\n",
       "      <th>psi</th>\n",
       "    </tr>\n",
       "  </thead>\n",
       "  <tbody>\n",
       "    <tr>\n",
       "      <th>1</th>\n",
       "      <td>4.298990</td>\n",
       "      <td>0.653092</td>\n",
       "      <td>1.618121</td>\n",
       "      <td>0.124211</td>\n",
       "      <td>0.98</td>\n",
       "      <td>0.005794</td>\n",
       "      <td>0.645708</td>\n",
       "      <td>0.051918</td>\n",
       "      <td>0.051918</td>\n",
       "      <td>-0.006539</td>\n",
       "      <td>1.051918</td>\n",
       "      <td>1.051918</td>\n",
       "      <td>1.020408</td>\n",
       "      <td>0.05</td>\n",
       "      <td>0.0</td>\n",
       "      <td>1.0</td>\n",
       "    </tr>\n",
       "    <tr>\n",
       "      <th>2</th>\n",
       "      <td>4.522183</td>\n",
       "      <td>0.702993</td>\n",
       "      <td>1.645375</td>\n",
       "      <td>0.120069</td>\n",
       "      <td>0.98</td>\n",
       "      <td>0.006953</td>\n",
       "      <td>0.695747</td>\n",
       "      <td>0.055454</td>\n",
       "      <td>0.055454</td>\n",
       "      <td>-0.007083</td>\n",
       "      <td>1.055454</td>\n",
       "      <td>1.055454</td>\n",
       "      <td>1.020408</td>\n",
       "      <td>0.05</td>\n",
       "      <td>0.0</td>\n",
       "      <td>1.0</td>\n",
       "    </tr>\n",
       "    <tr>\n",
       "      <th>3</th>\n",
       "      <td>4.772958</td>\n",
       "      <td>0.675014</td>\n",
       "      <td>2.009931</td>\n",
       "      <td>0.138966</td>\n",
       "      <td>0.98</td>\n",
       "      <td>0.004095</td>\n",
       "      <td>0.665527</td>\n",
       "      <td>0.041425</td>\n",
       "      <td>0.041425</td>\n",
       "      <td>-0.005000</td>\n",
       "      <td>1.041425</td>\n",
       "      <td>1.041425</td>\n",
       "      <td>1.020408</td>\n",
       "      <td>0.05</td>\n",
       "      <td>0.0</td>\n",
       "      <td>1.2</td>\n",
       "    </tr>\n",
       "    <tr>\n",
       "      <th>4</th>\n",
       "      <td>4.970676</td>\n",
       "      <td>0.651641</td>\n",
       "      <td>2.037034</td>\n",
       "      <td>0.135237</td>\n",
       "      <td>0.98</td>\n",
       "      <td>0.002403</td>\n",
       "      <td>0.640964</td>\n",
       "      <td>0.031097</td>\n",
       "      <td>0.031097</td>\n",
       "      <td>-0.003593</td>\n",
       "      <td>1.031097</td>\n",
       "      <td>1.031097</td>\n",
       "      <td>1.020408</td>\n",
       "      <td>0.05</td>\n",
       "      <td>0.0</td>\n",
       "      <td>1.2</td>\n",
       "    </tr>\n",
       "    <tr>\n",
       "      <th>5</th>\n",
       "      <td>5.125250</td>\n",
       "      <td>0.632612</td>\n",
       "      <td>2.057724</td>\n",
       "      <td>0.132491</td>\n",
       "      <td>0.98</td>\n",
       "      <td>0.001407</td>\n",
       "      <td>0.621338</td>\n",
       "      <td>0.023430</td>\n",
       "      <td>0.023430</td>\n",
       "      <td>-0.002618</td>\n",
       "      <td>1.023430</td>\n",
       "      <td>1.023430</td>\n",
       "      <td>1.020408</td>\n",
       "      <td>0.05</td>\n",
       "      <td>0.0</td>\n",
       "      <td>1.2</td>\n",
       "    </tr>\n",
       "  </tbody>\n",
       "</table>\n",
       "</div>"
      ],
      "text/plain": [
       "          k         i         y       y_k  beta         j        xi      iota  \\\n",
       "1  4.298990  0.653092  1.618121  0.124211  0.98  0.005794  0.645708  0.051918   \n",
       "2  4.522183  0.702993  1.645375  0.120069  0.98  0.006953  0.695747  0.055454   \n",
       "3  4.772958  0.675014  2.009931  0.138966  0.98  0.004095  0.665527  0.041425   \n",
       "4  4.970676  0.651641  2.037034  0.135237  0.98  0.002403  0.640964  0.031097   \n",
       "5  5.125250  0.632612  2.057724  0.132491  0.98  0.001407  0.621338  0.023430   \n",
       "\n",
       "        j_i       j_k  lambda_1       q_1         R   tau  itc_1  psi  \n",
       "1  0.051918 -0.006539  1.051918  1.051918  1.020408  0.05    0.0  1.0  \n",
       "2  0.055454 -0.007083  1.055454  1.055454  1.020408  0.05    0.0  1.0  \n",
       "3  0.041425 -0.005000  1.041425  1.041425  1.020408  0.05    0.0  1.2  \n",
       "4  0.031097 -0.003593  1.031097  1.031097  1.020408  0.05    0.0  1.2  \n",
       "5  0.023430 -0.002618  1.023430  1.023430  1.020408  0.05    0.0  1.2  "
      ]
     },
     "execution_count": 9,
     "metadata": {},
     "output_type": "execute_result"
    }
   ],
   "source": [
    "# Now use the \"perfect foresight\" dolo solver\n",
    "response = pf.deterministic_solve(model = QDolo, # Model we are using (in dolo)\n",
    "                                  shocks = Exog, # Paths for exog. variables \n",
    "                                  T=T,           # Total simulation time\n",
    "                                  s1 = [k0],     # Initial state\n",
    "                                  verbose=True)\n",
    "\n",
    "# Response is a DataFrame with the paths of every variable over time.\n",
    "# It adds information we don't need on the first row. So we delete it\n",
    "response = response[1:]\n",
    "\n",
    "# Inspect the first few elements.\n",
    "response.head()"
   ]
  },
  {
   "cell_type": "markdown",
   "metadata": {},
   "source": [
    "# IMPORTANT\n",
    "\n",
    "Because of the way the model is implemented, it does not keep track of $\\lambda_t$ or $ITC_t$, but  $\\lambda_{t+1}$ and $ITC_{t+1}$ instead. \n",
    "\n",
    "Thus, lambda_1 in row 1 corresponds to $\\lambda_2$. Same with the ITC."
   ]
  },
  {
   "cell_type": "markdown",
   "metadata": {},
   "source": [
    "# Plots\n",
    "\n",
    "Now we can use Qmod to plot the phase diagrams and add the optimal dynamics that we just found."
   ]
  },
  {
   "cell_type": "code",
   "execution_count": 10,
   "metadata": {},
   "outputs": [
    {
     "data": {
      "text/plain": [
       "Text(0.5, 0, 'Time')"
      ]
     },
     "execution_count": 10,
     "metadata": {},
     "output_type": "execute_result"
    },
    {
     "data": {
      "image/png": "[encoded data removed]",
      "text/plain": [
       "<Figure size 432x288 with 1 Axes>"
      ]
     },
     "metadata": {
      "needs_background": "light"
     },
     "output_type": "display_data"
    },
    {
     "data": {
      "image/png": "[encoded data removed]",
      "text/plain": [
       "<Figure size 432x288 with 1 Axes>"
      ]
     },
     "metadata": {
      "needs_background": "light"
     },
     "output_type": "display_data"
    }
   ],
   "source": [
    "# Draw the two phase diagrams and save them in an object\n",
    "# to add the plots of dynamics later.\n",
    "\n",
    "# Copy the initial model, set the higher psi and re-solve\n",
    "Q_high_psi = deepcopy(Qmodel)\n",
    "Q_high_psi.psi = psi_high\n",
    "Q_high_psi.solve()\n",
    "\n",
    "# Now we draw the phase diagrams of our base model \"Qmodel\"\n",
    "# and the new one \"Q_high_psi\", and store the plot in\n",
    "# object \"ax\"\n",
    "ax = phase_diagrams(mod1 = Qmodel, mod2 = Q_high_psi, k_min = 2, k_max = 8)\n",
    "\n",
    "# Now we can add the behavior of lambda and k to the diagram.\n",
    "ax.plot(response.k, response.lambda_1, '.k',label = 'Opt. Response')\n",
    "plt.legend()\n",
    "plt.xlabel('k')\n",
    "plt.ylabel('$\\\\lambda$')\n",
    "\n",
    "# New figure for capital dynamics\n",
    "plt.figure()\n",
    "plt.plot(response.k,'.')\n",
    "plt.ylabel('$k$')\n",
    "plt.xlabel('Time')"
   ]
  }
 ],
 "metadata": {
  "jupytext": {
   "cell_metadata_json": true,
   "formats": "ipynb,py:percent"
  },
  "kernelspec": {
   "display_name": "Python 3",
   "language": "python",
   "name": "python3"
  },
  "language_info": {
   "codemirror_mode": {
    "name": "ipython",
    "version": 3
   },
   "file_extension": ".py",
   "mimetype": "text/x-python",
   "name": "python",
   "nbconvert_exporter": "python",
   "pygments_lexer": "ipython3",
   "version": "3.8.8"
  },
  "latex_envs": {
   "LaTeX_envs_menu_present": true,
   "autoclose": false,
   "autocomplete": true,
   "bibliofile": "biblio.bib",
   "cite_by": "apalike",
   "current_citInitial": 1,
   "eqLabelWithNumbers": true,
   "eqNumInitial": 1,
   "hotkeys": {
    "equation": "Ctrl-E",
    "itemize": "Ctrl-I"
   },
   "labels_anchors": false,
   "latex_user_defs": false,
   "report_style_numbering": false,
   "user_envs_cfg": false
  }
 },
 "nbformat": 4,
 "nbformat_minor": 4
}
